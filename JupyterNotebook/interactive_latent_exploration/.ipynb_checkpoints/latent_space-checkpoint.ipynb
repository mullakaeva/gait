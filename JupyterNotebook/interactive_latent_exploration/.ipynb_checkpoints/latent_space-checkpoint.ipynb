{
 "cells": [
  {
   "cell_type": "code",
   "execution_count": 58,
   "metadata": {},
   "outputs": [
    {
     "name": "stdout",
     "output_type": "stream",
     "text": [
      "x's shape = (341,)\n",
      "y's shape = (341,)\n",
      "tasks's shape = (341,)\n",
      "phenos's shape = (341,)\n",
      "\n"
     ]
    }
   ],
   "source": [
    "import plotly.graph_objs as go\n",
    "from ipywidgets import Video, Layout, VBox, HBox\n",
    "\n",
    "import numpy as np\n",
    "import pandas as pd\n",
    "\n",
    "task2idx_dict = {\n",
    "    \"vself\": 0,\n",
    "    \"vmin\": 1,\n",
    "    \"vmax\": 2,\n",
    "    \"headneck\": 3,\n",
    "    \"dtspeech\": 4,\n",
    "    \"dtmath\": 5,\n",
    "    \"dtcarry\": 6,\n",
    "    \"ec\": 7\n",
    "}\n",
    "\n",
    "pheno2idx_dict = {\n",
    "    \"ataxia\": 0,\n",
    "    \"episodic\": 1,\n",
    "    \"hs\": 2,\n",
    "    \"hypokinetic\": 3,\n",
    "    \"normal\": 4,\n",
    "    \"nph\": 5,\n",
    "    \"paretic\": 6,\n",
    "    \"phobic\": 7,\n",
    "    \"ppv\": 8,\n",
    "    \"psychogenic\": 9,\n",
    "    \"sensory ataxis\": 10,\n",
    "    \"spastic\": 11,\n",
    "    \"suspectnph\": 12\n",
    "}\n",
    "\n",
    "idx2pheno_dict = {v: k for k, v in pheno2idx_dict.items()}\n",
    "\n",
    "idx2task_dict = {v: k for k, v in task2idx_dict.items()}\n",
    "\n",
    "def idx2task(idx):\n",
    "    return idx2task_dict[idx]\n",
    "\n",
    "def idx2pheno(idx):\n",
    "    return idx2pheno_dict[idx]\n",
    "\n",
    "def tick_val_text():\n",
    "    vals = list(idx2task_dict.keys())\n",
    "    texts = [idx2task(i) for i in vals]\n",
    "    return (vals, texts)\n",
    "\n",
    "num_points = 341\n",
    "motion_z_umap = np.load(\"data/motion_z_umap.npy\")[:num_points, ]\n",
    "x, y = motion_z_umap[:, 0], motion_z_umap[:, 1]\n",
    "tasks = np.load(\"data/tasks_labels.npy\")[:num_points, ].astype(np.int)\n",
    "phenos = np.load(\"data/pheno_labels.npy\")[:num_points, ].astype(np.int)\n",
    "labels_text = [\"{}\\n{}\".format(idx2task(i), idx2pheno(j))  for i, j in zip(tasks, phenos)]\n",
    "print(\"x's shape = {}\\ny's shape = {}\\ntasks's shape = {}\\nphenos's shape = {}\\n\".format(\n",
    "        x.shape, y.shape, tasks.shape, phenos.shape\n",
    "        )\n",
    "     )\n",
    "df_info = pd.DataFrame({\"tasks\":tasks, \"phenos\":phenos})\n",
    "\n",
    "\n"
   ]
  },
  {
   "cell_type": "code",
   "execution_count": 55,
   "metadata": {},
   "outputs": [],
   "source": [
    "video_data = dict()\n",
    "for i in range(x.shape[0]):\n",
    "    with open(\"data/videos/compare/compare_{}.mp4\".format(i), \"rb\") as f:\n",
    "        b = f.read()\n",
    "        video_data[i] = b\n",
    "video_widget = Video(\n",
    "    value = video_data[0],\n",
    "    layout=Layout(height='252px', width='400px')\n",
    ")"
   ]
  },
  {
   "cell_type": "code",
   "execution_count": 59,
   "metadata": {
    "scrolled": false
   },
   "outputs": [
    {
     "data": {
      "application/vnd.jupyter.widget-view+json": {
       "model_id": "5bbe8f6d5fe94441aedd699c603c70e4",
       "version_major": 2,
       "version_minor": 0
      },
      "text/plain": [
       "HBox(children=(FigureWidget({\n",
       "    'data': [{'hoverinfo': 'text',\n",
       "              'marker': {'color': array([2, 3…"
      ]
     },
     "metadata": {},
     "output_type": "display_data"
    }
   ],
   "source": [
    "fig = go.FigureWidget(\n",
    "    data=[\n",
    "        dict(\n",
    "            type='scattergl',\n",
    "            x=x,\n",
    "            y=y,\n",
    "            mode='markers',\n",
    "        )\n",
    "    ],\n",
    ")\n",
    "\n",
    "fig.layout.title = 'Latent space visualization'\n",
    "fig.layout.titlefont.size = 12\n",
    "fig.layout.xaxis.title = \"x\"\n",
    "fig.layout.yaxis.title = \"y\"\n",
    "fig.layout.autosize = False\n",
    "fig.layout.width, fig.layout.height = 500, 600\n",
    "fig.layout.hovermode = 'closest'\n",
    "\n",
    "scatter = fig.data[0]\n",
    "scatter.text = tasks_text\n",
    "scatter.hoverinfo = \"text\"\n",
    "scatter.marker.color = tasks\n",
    "scatter.marker.colorbar = dict(\n",
    "    title = \"tasks\",\n",
    "    tickvals = tick_val_text()[0],\n",
    "    ticktext = tick_val_text()[1],\n",
    "    ticks = 'outside'\n",
    ")\n",
    "scatter.marker.colorscale = \"Jet\"\n",
    "scatter.marker.opacity = 1\n",
    "scatter.marker.size = 4\n",
    "\n",
    "def hover_fn(trace, points, state):\n",
    "\n",
    "    ind = points.point_inds[0]\n",
    "\n",
    "    # Update image widget\n",
    "    video_widget.value = video_data[ind]\n",
    "\n",
    "scatter.on_hover(hover_fn)\n",
    "\n",
    "\n",
    "HBox([fig,\n",
    "      video_widget])"
   ]
  },
  {
   "cell_type": "code",
   "execution_count": 2,
   "metadata": {},
   "outputs": [
    {
     "data": {
      "application/vnd.jupyter.widget-view+json": {
       "model_id": "5e88e7b8fba7432f9e7edf6b6fb9c52e",
       "version_major": 2,
       "version_minor": 0
      },
      "text/plain": [
       "FigureWidget({\n",
       "    'data': [{'marker': {'color': array([2, 3, 3, ..., 1, 1, 1]),\n",
       "                         'col…"
      ]
     },
     "metadata": {},
     "output_type": "display_data"
    }
   ],
   "source": [
    "\n",
    "colorbar_dict = dict(\n",
    "    title = \"tasks\",\n",
    "    tickvals = tick_val_text()[0],\n",
    "    ticktext = tick_val_text()[1],\n",
    "    ticks = 'outside'\n",
    ")\n",
    "\n",
    "trace0 = go.Scatter(\n",
    "    x=x,\n",
    "    y=y,\n",
    "    mode=\"markers\"\n",
    ")\n",
    "\n",
    "layout = go.Layout(\n",
    "    autosize=False,\n",
    "    width=800,\n",
    "    height=800,\n",
    ")\n",
    "\n",
    "\n",
    "f = go.FigureWidget(data=[trace0], layout=layout)\n",
    "\n",
    "scatter = f.data[0]\n",
    "\n",
    "scatter.marker.color = tasks\n",
    "scatter.marker.colorscale = 'Jet'\n",
    "scatter.marker.colorbar = colorbar_dict\n",
    "scatter.marker.size = [5] * 4096\n",
    "f.layout.hovermode = 'closest'\n",
    "\n",
    "\n",
    "# create our callback function\n",
    "def update_point(trace, points, selector):\n",
    "    \n",
    "    c = list(scatter.marker.color)\n",
    "    s = list(scatter.marker.size)\n",
    "    for i in points.point_inds:\n",
    "        c[i] = '#bae2be'\n",
    "        s[i] = 20\n",
    "        scatter.marker.color = c\n",
    "        scatter.marker.size = s\n",
    "\n",
    "\n",
    "scatter.on_click(update_point)\n",
    "\n",
    "f"
   ]
  },
  {
   "cell_type": "code",
   "execution_count": null,
   "metadata": {},
   "outputs": [],
   "source": []
  }
 ],
 "metadata": {
  "celltoolbar": "Raw Cell Format",
  "kernelspec": {
   "display_name": "Python 3",
   "language": "python",
   "name": "python3"
  },
  "language_info": {
   "codemirror_mode": {
    "name": "ipython",
    "version": 3
   },
   "file_extension": ".py",
   "mimetype": "text/x-python",
   "name": "python",
   "nbconvert_exporter": "python",
   "pygments_lexer": "ipython3",
   "version": "3.7.1"
  }
 },
 "nbformat": 4,
 "nbformat_minor": 2
}
